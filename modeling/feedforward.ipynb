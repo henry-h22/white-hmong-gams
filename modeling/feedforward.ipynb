{
 "cells": [
  {
   "cell_type": "code",
   "execution_count": 5,
   "id": "114a7732",
   "metadata": {},
   "outputs": [
    {
     "name": "stdout",
     "output_type": "stream",
     "text": [
      "718\n"
     ]
    }
   ],
   "source": [
    "import numpy as np\n",
    "import torch\n",
    "from torch import nn\n",
    "from torch.utils.data import DataLoader\n",
    "from tone_embeddings_dataset import ToneContoursDataset\n",
    "from tone_embeddings_model import ToneFeedForward\n",
    "from id_word_map import IdWordMap\n",
    "from splits import splits\n",
    "wordMap = IdWordMap()\n",
    "n_files = len(wordMap.ids)\n",
    "print(n_files)\n",
    "\n",
    "# Settings:\n",
    "epochs = 40\n",
    "currentSplit = 0\n",
    "wordTone = False\n",
    "outputsForConfusion = False"
   ]
  },
  {
   "cell_type": "code",
   "execution_count": 6,
   "id": "48e00dcf",
   "metadata": {},
   "outputs": [],
   "source": [
    "dataset = ToneContoursDataset(n_files, split = currentSplit, word = wordTone)\n",
    "dataloader = DataLoader(dataset, batch_size = 10, shuffle = True)"
   ]
  },
  {
   "cell_type": "code",
   "execution_count": 7,
   "id": "bdb4e3cd",
   "metadata": {},
   "outputs": [
    {
     "data": {
      "text/plain": [
       "ToneFeedForward(\n",
       "  (net): Sequential(\n",
       "    (0): Linear(in_features=50, out_features=512, bias=True)\n",
       "    (1): Sigmoid()\n",
       "    (2): Linear(in_features=512, out_features=2048, bias=True)\n",
       "    (3): Sigmoid()\n",
       "    (4): Linear(in_features=2048, out_features=3072, bias=True)\n",
       "  )\n",
       ")"
      ]
     },
     "execution_count": 7,
     "metadata": {},
     "output_type": "execute_result"
    }
   ],
   "source": [
    "model = ToneFeedForward()\n",
    "loss_fn = nn.MSELoss()\n",
    "optimizer = torch.optim.Adam(model.parameters(), lr = 1e-3)\n",
    "device = torch.device(\"cuda\" if torch.cuda.is_available() else \"cpu\")\n",
    "model.to(device, dtype=torch.float32)"
   ]
  },
  {
   "cell_type": "code",
   "execution_count": 8,
   "id": "79e62927",
   "metadata": {},
   "outputs": [
    {
     "name": "stdout",
     "output_type": "stream",
     "text": [
      "Epoch 1/40, Loss: 0.0244\n",
      "Epoch 2/40, Loss: 0.0005\n",
      "Epoch 3/40, Loss: 0.0004\n",
      "Epoch 4/40, Loss: 0.0004\n",
      "Epoch 5/40, Loss: 0.0004\n",
      "Epoch 6/40, Loss: 0.0004\n",
      "Epoch 7/40, Loss: 0.0004\n",
      "Epoch 8/40, Loss: 0.0004\n",
      "Epoch 9/40, Loss: 0.0004\n",
      "Epoch 10/40, Loss: 0.0004\n",
      "Epoch 11/40, Loss: 0.0004\n",
      "Epoch 12/40, Loss: 0.0004\n",
      "Epoch 13/40, Loss: 0.0004\n",
      "Epoch 14/40, Loss: 0.0004\n",
      "Epoch 15/40, Loss: 0.0004\n",
      "Epoch 16/40, Loss: 0.0004\n",
      "Epoch 17/40, Loss: 0.0004\n",
      "Epoch 18/40, Loss: 0.0004\n",
      "Epoch 19/40, Loss: 0.0004\n",
      "Epoch 20/40, Loss: 0.0004\n",
      "Epoch 21/40, Loss: 0.0004\n",
      "Epoch 22/40, Loss: 0.0004\n",
      "Epoch 23/40, Loss: 0.0004\n",
      "Epoch 24/40, Loss: 0.0004\n",
      "Epoch 25/40, Loss: 0.0004\n",
      "Epoch 26/40, Loss: 0.0004\n",
      "Epoch 27/40, Loss: 0.0004\n",
      "Epoch 28/40, Loss: 0.0004\n",
      "Epoch 29/40, Loss: 0.0004\n",
      "Epoch 30/40, Loss: 0.0004\n",
      "Epoch 31/40, Loss: 0.0004\n",
      "Epoch 32/40, Loss: 0.0004\n",
      "Epoch 33/40, Loss: 0.0004\n",
      "Epoch 34/40, Loss: 0.0004\n",
      "Epoch 35/40, Loss: 0.0004\n",
      "Epoch 36/40, Loss: 0.0004\n",
      "Epoch 37/40, Loss: 0.0004\n",
      "Epoch 38/40, Loss: 0.0004\n",
      "Epoch 39/40, Loss: 0.0004\n",
      "Epoch 40/40, Loss: 0.0004\n"
     ]
    }
   ],
   "source": [
    "for epoch in range(epochs):\n",
    "    model.train()\n",
    "    epoch_loss = 0.0\n",
    "    for x_batch, y_batch in dataloader:\n",
    "        x_batch = x_batch.to(device)\n",
    "        y_batch = y_batch.to(device)\n",
    "\n",
    "        optimizer.zero_grad()\n",
    "        outputs = model(x_batch)\n",
    "        loss = loss_fn(outputs, y_batch)\n",
    "        loss.backward()\n",
    "        optimizer.step()\n",
    "\n",
    "        epoch_loss += loss.item() * x_batch.size(0)\n",
    "    \n",
    "    print(f\"Epoch {epoch+1}/{epochs}, Loss: {epoch_loss / len(dataset):.4f}\")"
   ]
  },
  {
   "cell_type": "code",
   "execution_count": 9,
   "id": "a64aee3b",
   "metadata": {},
   "outputs": [],
   "source": [
    "# build the stack (vector database essentially)\n",
    "\n",
    "tensors_to_stack = []\n",
    "for i in range(n_files):\n",
    "    tensors_to_stack.append(torch.tensor(np.load(f'v_context_embeddings/{i}.npy').astype(np.float32), dtype=torch.float32))\n",
    "meaning_stack = torch.stack(tensors_to_stack)\n"
   ]
  },
  {
   "cell_type": "code",
   "execution_count": 10,
   "id": "cfdd3542",
   "metadata": {},
   "outputs": [
    {
     "name": "stdout",
     "output_type": "stream",
     "text": [
      "Train Accuracy: 0.21428571428571427\n",
      "Test Accuracy: 0.1875\n"
     ]
    }
   ],
   "source": [
    "model.eval()\n",
    "train_successes = 0\n",
    "train_list = sorted(list({i for i in range(n_files)} - set(splits[currentSplit])))\n",
    "directory = 'v_tone_embeddings_word' if wordTone else 'v_tone_embeddings'\n",
    "confusionTrue, confusionPredicted = [], []\n",
    "# train accuracy:\n",
    "for i in train_list:\n",
    "    x_test = torch.tensor(np.load(f'{directory}/{i}.npy').astype(np.float32), dtype=torch.float32)\n",
    "    correct_word = wordMap[i]\n",
    "    with torch.no_grad():\n",
    "        prediction = model(x_test)\n",
    "    closest = torch.norm(meaning_stack - prediction.unsqueeze(0), dim = 1).argmin()\n",
    "    if correct_word == wordMap[closest]: train_successes += 1\n",
    "\n",
    "print(f'Train Accuracy: {train_successes / len(train_list)}')\n",
    "\n",
    "# test accuracy:\n",
    "test_successes = 0\n",
    "for i in splits[currentSplit]:\n",
    "    x_test = torch.tensor(np.load(f'{directory}/{i}.npy').astype(np.float32), dtype=torch.float32)\n",
    "    correct_word = wordMap[i]\n",
    "    with torch.no_grad():\n",
    "        prediction = model(x_test)\n",
    "    closest = torch.norm(meaning_stack - prediction.unsqueeze(0), dim = 1).argmin()\n",
    "    closest_word = wordMap[closest]\n",
    "    if outputsForConfusion:\n",
    "        confusionTrue.append(correct_word)\n",
    "        confusionPredicted.append(closest_word)\n",
    "    if correct_word == closest_word: test_successes += 1\n",
    "\n",
    "print(f'Test Accuracy: {test_successes / len(splits[currentSplit])}')\n",
    "if outputsForConfusion: \n",
    "    print(confusionTrue, '\\n', confusionPredicted)\n",
    "    from seaborn import countplot\n",
    "    countplot(confusionPredicted)\n"
   ]
  }
 ],
 "metadata": {
  "kernelspec": {
   "display_name": "base",
   "language": "python",
   "name": "python3"
  },
  "language_info": {
   "codemirror_mode": {
    "name": "ipython",
    "version": 3
   },
   "file_extension": ".py",
   "mimetype": "text/x-python",
   "name": "python",
   "nbconvert_exporter": "python",
   "pygments_lexer": "ipython3",
   "version": "3.11.8"
  }
 },
 "nbformat": 4,
 "nbformat_minor": 5
}
