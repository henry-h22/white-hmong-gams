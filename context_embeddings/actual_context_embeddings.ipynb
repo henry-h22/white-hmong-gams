{
 "cells": [
  {
   "cell_type": "code",
   "execution_count": null,
   "id": "2cc196fd",
   "metadata": {},
   "outputs": [],
   "source": [
    "from providedHelpers import *\n",
    "import numpy as np\n",
    "\n",
    "import pandas as pd\n",
    "import matplotlib.pyplot as plt\n",
    "tones = ['b', 's', 'j', 'v', 'm', 'g', 'd', '0']\n",
    "\n",
    "import re\n",
    "from collections import deque"
   ]
  },
  {
   "cell_type": "markdown",
   "id": "f7100e18",
   "metadata": {},
   "source": [
    "To start, we'd like to save as .np files the word embeddings for all the words in the data.\n",
    "\n",
    "To get all the words, we'll load in the data in the same way we did for the word type exploration"
   ]
  },
  {
   "cell_type": "code",
   "execution_count": null,
   "id": "edcc989c",
   "metadata": {},
   "outputs": [],
   "source": [
    "words = set()\n",
    "for tone in tones:\n",
    "    file = f'./normalized_AVG/hmongData-{tone}-ST_AVG.csv'\n",
    "    df = pd.read_csv(file)\n",
    "\n",
    "    for index, row in df.iterrows():\n",
    "        raw_word = row.loc['Word']\n",
    "        if '_' in raw_word:\n",
    "            word = raw_word.split('_')[0]\n",
    "        else: word = raw_word\n",
    "        if word == '': continue # long story, don't worry\n",
    "        words.add(word)"
   ]
  },
  {
   "cell_type": "code",
   "execution_count": 67,
   "id": "5e7fdb64",
   "metadata": {},
   "outputs": [],
   "source": [
    "def construct_word_embedding(word: str):\n",
    "    embedding = embed_text(word)\n",
    "    np.save(f'./word_embeddings/{word}.npy', embedding)\n",
    "    return embedding"
   ]
  },
  {
   "cell_type": "code",
   "execution_count": 1,
   "id": "0bb52ce7",
   "metadata": {},
   "outputs": [],
   "source": [
    "def read_word_embedding(word: str):\n",
    "    return np.load(f'./word_embeddings/{word}.npy')"
   ]
  },
  {
   "cell_type": "code",
   "execution_count": 72,
   "id": "548cd874",
   "metadata": {},
   "outputs": [],
   "source": [
    "# We're gonna define a new class, which holds on to a couple of things:\n",
    "# Target word, context window, tone. TOKEN ID (by-tone, matching our database) \n",
    "# Has the functionality to get the context embedding, and then average that with the word embedding to get our final embedding\n",
    "# Also has the functionality to save that to file in ./context_embeddings/{tone}/{id}.npy\n",
    "\n",
    "class ContextWindow:\n",
    "    def __init__(self, word: str, context_window: list[str], tone: str, token_id: int):\n",
    "        self.word = word\n",
    "        self.context_window = ' '.join(context_window)\n",
    "        self.tone = tone\n",
    "        self.token_id = token_id\n",
    "\n",
    "    def __eq__(self, other):\n",
    "        return (self.context_window == other.context_window)\n",
    "        \n",
    "    def __hash__(self):\n",
    "        return hash(self.context_window)\n"
   ]
  },
  {
   "cell_type": "code",
   "execution_count": null,
   "id": "5d635ab2",
   "metadata": {},
   "outputs": [],
   "source": [
    "# Because speakers did not exactly follow the text, instead of using the story text, we'll be using the words themselves\n",
    "#  Let's actually redefine textProcess to give us \"sentences\". \n",
    "# Later on, we'll use fun code to make sure that we aren't doing multiple of the same encoding for no reason\n",
    "\n",
    "import tgt\n",
    "\n",
    "def textProcessCEs(file: str) -> list:\n",
    "    raw_grid = tgt.read_textgrid(f\"./textgrid/{file}.TextGrid\") # tgt TextGrid object\n",
    "\n",
    "    sentences = []\n",
    "    current = []\n",
    "    for interval in raw_grid.tiers[0]:\n",
    "        current_text = interval.text\n",
    "        current_text_list = current_text.split('_')\n",
    "\n",
    "        if 'ui' in current_text_list and len(current) > 0:\n",
    "            # we want this to handle cases where an utterance starts without technically ending (we never saw the uf)\n",
    "            # essentially just do everything that would occur below, but do it here!\n",
    "            sentences.append(current)\n",
    "            current = []\n",
    "\n",
    "        current.append(current_text_list[0])\n",
    "\n",
    "        if 'uf' in current_text_list:\n",
    "            sentences.append(current)\n",
    "            current = []\n",
    "    \n",
    "    sentences.append(current)\n",
    "    current = []\n",
    "\n",
    "    return sentences\n",
    "        "
   ]
  },
  {
   "cell_type": "code",
   "execution_count": 77,
   "id": "9c64ee94",
   "metadata": {},
   "outputs": [],
   "source": [
    "speakers = ['Cha', 'Chingla', 'Ellina', 'Gozong', 'Long', 'MaiXee', 'MaiXor', 'Ma']\n",
    "stories = ['1', '2', '3']\n",
    "\n",
    "all_sentences = []\n",
    "for speaker in speakers:\n",
    "    for story in stories:\n",
    "        file = f'{speaker}Story{story}'\n",
    "        for sentence in textProcessCEs(file):\n",
    "            all_sentences.append(sentence)"
   ]
  },
  {
   "cell_type": "code",
   "execution_count": 79,
   "id": "886584b4",
   "metadata": {},
   "outputs": [],
   "source": [
    "# Now we'll use those \"sentences\" and create all of these context windows. Ideally the correct number this time\n",
    "\n",
    "windows_to_embed = []\n",
    "\n",
    "window_length = 3\n",
    "tone_id_counter = {'b': 0, 's': 0, 'j': 0, 'v': 0, 'm': 0, 'g': 0, 'd': 0, '0': 0}\n",
    "for sentence in all_sentences:\n",
    "    if len(sentence) < 1: continue\n",
    "\n",
    "    if sentence[0] == '': \n",
    "        if len(sentence) > 1: \n",
    "            sentence = sentence[1:]\n",
    "        else: pass\n",
    "\n",
    "    # set up context deque\n",
    "    context_deque = deque()\n",
    "    for i in range(min(window_length + 1, len(sentence))):\n",
    "        context_deque.append(sentence[i])\n",
    "\n",
    "    for i, word in enumerate(sentence):\n",
    "        # get the tone\n",
    "        current_tone = word[-1:]\n",
    "        if current_tone not in tones:\n",
    "            current_tone = '0'\n",
    "\n",
    "        window = ContextWindow(word, list(context_deque), current_tone, tone_id_counter[current_tone])\n",
    "        windows_to_embed.append(window)\n",
    "        if current_tone == 'v':\n",
    "            # print(window.word, window.tone, window.token_id, window.context_window)\n",
    "            pass\n",
    "\n",
    "        # increment tone counter\n",
    "        tone_id_counter[current_tone] += 1\n",
    "\n",
    "        # manage context deque:\n",
    "        if i + 1 + window_length < len(sentence):\n",
    "            context_deque.append(sentence[i + 1 + window_length])\n",
    "        else:\n",
    "            # if we drop into this case, we've reached the end of the sentence, so we need to just keep popping left to the end\n",
    "            context_deque.popleft()\n",
    "        if len(context_deque) > (2 * window_length) + 1:\n",
    "            context_deque.popleft()\n",
    "\n",
    "    # finish up\n",
    "    while len(context_deque) >= window_length + 1:\n",
    "        # get the tone\n",
    "        current_tone = word[-1:]\n",
    "        if current_tone not in tones:\n",
    "            current_tone = '0'\n",
    "\n",
    "        window = ContextWindow(word, list(context_deque), current_tone, tone_id_counter[current_tone])\n",
    "        windows_to_embed.append(window)\n",
    "        if current_tone == 'v':\n",
    "            # print(window.word, window.tone, window.token_id, window.context_window)\n",
    "            pass\n",
    "\n",
    "        # increment tone counter\n",
    "        tone_id_counter[current_tone] += 1\n",
    "\n",
    "        # manage context deque:\n",
    "        if i + 1 + window_length < len(sentence):\n",
    "            context_deque.append(sentence[i + 1 + window_length])\n",
    "        context_deque.popleft()"
   ]
  },
  {
   "cell_type": "code",
   "execution_count": 80,
   "id": "b3818338",
   "metadata": {},
   "outputs": [
    {
     "name": "stdout",
     "output_type": "stream",
     "text": [
      "11283\n",
      "4065\n"
     ]
    }
   ],
   "source": [
    "print(len(windows_to_embed))\n",
    "# actual_windows = set()\n",
    "\n",
    "print(len(set(windows_to_embed)))"
   ]
  },
  {
   "cell_type": "markdown",
   "id": "99435653",
   "metadata": {},
   "source": [
    "Here's the thing- `windows_to_embed` is incredible, and there's a world where all we need to do is:\n",
    "1. Create the set form of windows_to_embed, to make sure we aren't wasting API calls\n",
    "2. Encode all of the windows in that set\n",
    "3. Iterate over windows_to_embed in such a way that it saves all of our necessary embeddings. kind of easy!\n",
    "\n",
    "However... we can't just use the utterances without being smart about it. Mostly because of the very short utterances."
   ]
  },
  {
   "cell_type": "code",
   "execution_count": 81,
   "id": "c58651ef",
   "metadata": {},
   "outputs": [
    {
     "name": "stdout",
     "output_type": "stream",
     "text": [
      "159\n",
      "383\n",
      "415\n"
     ]
    }
   ],
   "source": [
    "set_windows = set(windows_to_embed)\n",
    "len_1 = 0\n",
    "len_2 = 0\n",
    "len_3 = 0\n",
    "for window in set_windows:\n",
    "    if len(window.context_window.split(' ')) == 1:\n",
    "        len_1 += 1\n",
    "    if len(window.context_window.split(' ')) == 2:\n",
    "        len_2 += 1\n",
    "    if len(window.context_window.split(' ')) == 3:\n",
    "        len_3 += 1\n",
    "\n",
    "\n",
    "print(len_1)\n",
    "print(len_2)\n",
    "print(len_3)\n",
    "\n",
    "# You know what, that's not that many... I might just let it rock with this solution. Maybe I'll hold off until wednesday so I can chat with zuoyu first though\n",
    "# Let's get all the data, maybe we could even do a viz!"
   ]
  },
  {
   "cell_type": "code",
   "execution_count": 82,
   "id": "8b61d1e4",
   "metadata": {},
   "outputs": [
    {
     "data": {
      "image/png": "[encoded data removed]",
      "text/plain": [
       "<Figure size 640x480 with 1 Axes>"
      ]
     },
     "metadata": {},
     "output_type": "display_data"
    }
   ],
   "source": [
    "\n",
    "import matplotlib.pyplot as plt\n",
    "\n",
    "phrase_lengths = []\n",
    "for phrase in all_sentences:\n",
    "    phrase_lengths.append(len(phrase))\n",
    "\n",
    "\n",
    "\n",
    "# Create the boxplot\n",
    "plt.hist(phrase_lengths, bins=range(min(phrase_lengths), max(phrase_lengths) + 1, 1), edgecolor='black')\n",
    "\n",
    "# Display the plot\n",
    "plt.show()"
   ]
  },
  {
   "cell_type": "markdown",
   "id": "510bccc1",
   "metadata": {},
   "source": [
    "Following Chuang et. al, we'd love to have access to the current AND previous utterance as we create these context windows\n",
    "Given this distribution of phrase lengths, I think we're justified in doing so.\n",
    "We'll start with the logic for that, then try to make a better context window solution, then ideally finally do the stuff!"
   ]
  },
  {
   "cell_type": "code",
   "execution_count": 83,
   "id": "1edfcde6",
   "metadata": {},
   "outputs": [],
   "source": [
    "# Just really quick we need to create all_sentences in a slightly different way! Sorry!\n",
    "\n",
    "speakers = ['Cha', 'Chingla', 'Ellina', 'Gozong', 'Long', 'MaiXee', 'MaiXor', 'Ma']\n",
    "stories = ['1', '2', '3']\n",
    "\n",
    "phrases_by_story = []\n",
    "for speaker in speakers:\n",
    "    for story in stories:\n",
    "        phrases_by_story.append(textProcessCEs(f'{speaker}Story{story}'))"
   ]
  },
  {
   "cell_type": "code",
   "execution_count": null,
   "id": "73dd7e97",
   "metadata": {},
   "outputs": [
    {
     "name": "stdout",
     "output_type": "stream",
     "text": [
      "['puag', 'thaum', 'ub']\n"
     ]
    }
   ],
   "source": [
    "# sanity check\n",
    "print(phrases_by_story[0][0])"
   ]
  },
  {
   "cell_type": "code",
   "execution_count": 85,
   "id": "8575184e",
   "metadata": {},
   "outputs": [],
   "source": [
    "# We'll modify all_sentences to create a list of (list, int) tuples! \n",
    "# The list is the phrase WITH the previous phrase added on the beginning, and the index is what word we should treat as the beginning of the phrase\n",
    "# I.e. len(prev_phrase)\n",
    "\n",
    "all_phrases = []\n",
    "for story in phrases_by_story:\n",
    "\n",
    "    # We don't want utterances leaking between stories!\n",
    "    prev_phrase = None\n",
    "    # print(story[0])\n",
    "\n",
    "    for phrase in story:\n",
    "        # beginning of a story\n",
    "        if prev_phrase is None:\n",
    "            all_phrases.append((phrase, 0))\n",
    "            prev_phrase = phrase\n",
    "            continue\n",
    "\n",
    "        new_phrase = []\n",
    "        for w in prev_phrase: new_phrase.append(w)\n",
    "        for w in phrase: new_phrase.append(w)\n",
    "        all_phrases.append((new_phrase, len(prev_phrase)))\n",
    "\n",
    "        prev_phrase = phrase\n",
    "# all_phrases\n"
   ]
  },
  {
   "cell_type": "code",
   "execution_count": 86,
   "id": "5c5ad410",
   "metadata": {},
   "outputs": [],
   "source": [
    "# Now we can create our real list of ContextWindow objects!\n",
    "window_length = 3\n",
    "tone_id_counter = {'b': 0, 's': 0, 'j': 0, 'v': 0, 'm': 0, 'g': 0, 'd': 0, '0': 0}\n",
    "windows_to_embed_real = []\n",
    "for phrase, lower_bound in all_phrases:\n",
    "    for i, word in enumerate(phrase):\n",
    "        if i < lower_bound: continue\n",
    "        current_tone = word[-1:]\n",
    "        if current_tone not in tones: current_tone = '0'\n",
    "        left_index = max(lower_bound, i - window_length)\n",
    "        right_index = min(len(phrase), i + window_length + 1)\n",
    "        context_window = phrase[left_index:right_index]\n",
    "        windows_to_embed_real.append(ContextWindow(word, context_window, current_tone, tone_id_counter[current_tone]))\n",
    "        tone_id_counter[current_tone] += 1"
   ]
  },
  {
   "cell_type": "code",
   "execution_count": 87,
   "id": "dbcaa103",
   "metadata": {},
   "outputs": [],
   "source": [
    "v_windows = []\n",
    "for window in windows_to_embed_real:\n",
    "    if window.tone == 'v':\n",
    "        v_windows.append(window)"
   ]
  },
  {
   "cell_type": "code",
   "execution_count": 88,
   "id": "94dc6d62",
   "metadata": {},
   "outputs": [
    {
     "data": {
      "image/png": "[encoded data removed]",
      "text/plain": [
       "<Figure size 640x480 with 1 Axes>"
      ]
     },
     "metadata": {},
     "output_type": "display_data"
    }
   ],
   "source": [
    "import matplotlib.pyplot as plt\n",
    "\n",
    "set_windows = set(v_windows)\n",
    "\n",
    "window_lengths = []\n",
    "for window in set_windows:\n",
    "    window_lengths.append(len(window.context_window.split(' ')))\n",
    "\n",
    "\n",
    "# Create the boxplot\n",
    "plt.hist(window_lengths, bins=range(min(window_lengths), max(window_lengths) + 1, 1), edgecolor='black')\n",
    "\n",
    "# Display the plot\n",
    "plt.show()"
   ]
  },
  {
   "cell_type": "code",
   "execution_count": null,
   "id": "c155a55d",
   "metadata": {},
   "outputs": [],
   "source": [
    "# sanity check\n",
    "for w in set_windows:\n",
    "    assert hash(w) == hash(w.context_window)"
   ]
  },
  {
   "cell_type": "code",
   "execution_count": null,
   "id": "e1463e40",
   "metadata": {},
   "outputs": [
    {
     "name": "stdout",
     "output_type": "stream",
     "text": [
      "Embedding context: ceev heev kom tsov sab sab\n",
      "Embedding context: khia tsis taus ntxiv\n",
      "Embedding context: tsis ceev npaum tsov los nws lub\n",
      "Embedding context: thiaj tsis muaj mov noj thiaj tsis\n",
      "Embedding context: ntsuag tshaib plab heev nws thiaj li\n",
      "Embedding context: kub zoo nkauj heev ua rau nws\n",
      "Embedding context: rau nws tsis xav no\n",
      "Embedding context: muab tso rau hauv ib lub hub\n",
      "Embedding context: siab heev rau cov zaub mov tiam\n",
      "Embedding context: tiag nws mus khiav nkaum nraum zoov\n",
      "Embedding context: khiav nkaum nraum zoov xwb\n",
      "Embedding context: niam siab phem heev hu ua niam\n",
      "Embedding context: niam zoo nkauj heev li ces nws\n",
      "Embedding context: kaws tub nkeeg heev nws tsis ua\n",
      "Embedding context: nws tsis ua mov noj thiab tsis\n",
      "Embedding context: hnub ib tug qav pom ntsuag nws\n",
      "Embedding context: paj no ces kuv mam nqus cov\n",
      "Embedding context: kuv mam nqus cov dej kom\n",
      "Embedding context: txhob luag li nawv\n",
      "Embedding context: txawm teb tias kuv twb hais kom\n",
      "Embedding context: qav rov qab nqus\n",
      "Embedding context: rau qhov nws xav tau zuaj paj\n",
      "Embedding context: tau zuaj paj rov qab los tiag\n",
      "Embedding context: qav rov nqus cov dej tag ntsuag\n",
      "Embedding context: zuag paj nkawd rov los ua ke\n",
      "Embedding context: nws tus ntxhais heev li nws thiaj\n",
      "Embedding context: ntawm nws lub qhov rooj nyeem\n",
      "Embedding context: nyeem tau ntawv\n",
      "Embedding context: hais tias yog kuv coj\n",
      "Embedding context: kuv paub nyeem ntawv no tus nyuam\n",
      "Embedding context: qhov ua yuav ua\n",
      "Embedding context: qhov ua yuav ua rau nws\n",
      "Embedding context: tiam sis qav txhawj tias ib\n",
      "Embedding context: yeej tsov\n",
      "Embedding context: tsuas yog sawv ntawd xwb\n",
      "Embedding context: zaum twg los qav yeej tseem teb\n",
      "Embedding context: qav pom tias tsov sab lawm qav\n",
      "Embedding context: tsov sab lawm qav mam li nrhia\n",
      "Embedding context: li nrhia nrhau tsov thiab nrhia nrhau\n",
      "Embedding context: cov phooj ywg sawv ntawm\n",
      "Embedding context: twg lawm tus qav uas nyob ze\n",
      "Embedding context: tseem zav paub hais tias\n",
      "Embedding context: mus ua teb qhov tseeb tiag nws\n",
      "Embedding context: txhom zuaj paj yuav\n",
      "Embedding context: ntsuag zoo siab heev vim li no\n",
      "Embedding context: nram teb los tsev nws pom tias\n",
      "Embedding context: hnub ib tug qav\n",
      "Embedding context: koj yuav tsum\n",
      "Embedding context: txawm teb tias kuv twb hais tias\n",
      "Embedding context: ntsuag hais kom qav rov qab nqus\n",
      "Embedding context: zuag paj rov qab lo tiag\n",
      "Embedding context: ntawm nws lub qhov rooj nyeem ntawm\n",
      "Embedding context: zuam yog daim iav ntawd ua rau\n",
      "Embedding context: xav nyeem ntawm heev\n",
      "Embedding context: xav nyeem ntawm heev tiam sis nws\n",
      "Embedding context: txhua lub khw sawv ntxov txog tsuas\n",
      "Embedding context: lub khw sawv ntxov txog tsuas ntuj\n",
      "Embedding context: coj ib daim iav ces ntshe\n",
      "Embedding context: si nws pom qav\n",
      "Embedding context: rau kuv los tau\n",
      "Embedding context: tiam sis qav tsuas yog\n",
      "Embedding context: li nrhia nrhau tsov\n",
      "Embedding context: cov phooj ywg sawv\n",
      "Embedding context: nws lub tswv yim ua rau\n",
      "Embedding context: thiab muab tso hauv ib lub hub\n",
      "Embedding context: nws tseem xav paub hai tias\n",
      "Embedding context: nws mus khiav nkaum nraum zoov\n",
      "Embedding context: tawm thiab txhob tov los lawm\n",
      "Embedding context: thiaj txia rov mus ua ib\n",
      "Embedding context: kaws tub nkeeg heev\n",
      "Embedding context: nws tsis tu tsev\n",
      "Embedding context: txhua hnub mus thov txim thiab lees\n",
      "Embedding context: sis mas koj yuav tsum\n",
      "Embedding context: rau qhov nws xav\n",
      "Embedding context: tau zuag paj rov qab los tiag\n"
     ]
    }
   ],
   "source": [
    "# API CALL! THE BIG ONE!!!\n",
    "for window in v_windows:\n",
    "    word_embed = np.load(f'word_embeddings/{window.word}.npy')\n",
    "    try:\n",
    "        # this case occurs when we've already embedded the context\n",
    "        context_embed = np.load(f'hashed_contexts/{hash(window)}.npy')\n",
    "    except Exception:\n",
    "        # this case works for when we need to embed the context\n",
    "        print('Embedding context:', window.context_window)\n",
    "        try:\n",
    "            context_embed = embed_text(window.context_window)\n",
    "        except Exception:\n",
    "            # this case occurs when something out of our control goes wrong-- we just re-run the code again\n",
    "            print(f'Failed for {window.context_window}, breaking out!')\n",
    "            break\n",
    "        np.save(f'hashed_contexts/{hash(window)}', context_embed)\n",
    "    final_context_embedding = word_embed + context_embed\n",
    "    np.save(f'v_context_embeddings/{window.token_id}.npy', final_context_embedding)"
   ]
  }
 ],
 "metadata": {
  "kernelspec": {
   "display_name": "base",
   "language": "python",
   "name": "python3"
  },
  "language_info": {
   "codemirror_mode": {
    "name": "ipython",
    "version": 3
   },
   "file_extension": ".py",
   "mimetype": "text/x-python",
   "name": "python",
   "nbconvert_exporter": "python",
   "pygments_lexer": "ipython3",
   "version": "3.11.8"
  }
 },
 "nbformat": 4,
 "nbformat_minor": 5
}
